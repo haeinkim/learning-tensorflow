{
 "cells": [
  {
   "cell_type": "markdown",
   "metadata": {},
   "source": [
    "# Exploring MNIST dataset"
   ]
  },
  {
   "cell_type": "code",
   "execution_count": 1,
   "metadata": {
    "scrolled": true
   },
   "outputs": [
    {
     "data": {
      "text/plain": [
       "{'COL_NAMES': ['label', 'data'],\n",
       " 'DESCR': 'mldata.org dataset: mnist-original',\n",
       " 'data': array([[0, 0, 0, ..., 0, 0, 0],\n",
       "        [0, 0, 0, ..., 0, 0, 0],\n",
       "        [0, 0, 0, ..., 0, 0, 0],\n",
       "        ..., \n",
       "        [0, 0, 0, ..., 0, 0, 0],\n",
       "        [0, 0, 0, ..., 0, 0, 0],\n",
       "        [0, 0, 0, ..., 0, 0, 0]], dtype=uint8),\n",
       " 'target': array([ 0.,  0.,  0., ...,  9.,  9.,  9.])}"
      ]
     },
     "execution_count": 1,
     "metadata": {},
     "output_type": "execute_result"
    }
   ],
   "source": [
    "from sklearn.datasets import fetch_mldata\n",
    "mnist = fetch_mldata('MNIST original')\n",
    "mnist"
   ]
  },
  {
   "cell_type": "code",
   "execution_count": 2,
   "metadata": {
    "collapsed": true
   },
   "outputs": [],
   "source": [
    "X, y = mnist[\"data\"], mnist[\"target\"]"
   ]
  },
  {
   "cell_type": "code",
   "execution_count": 3,
   "metadata": {},
   "outputs": [
    {
     "data": {
      "text/plain": [
       "((70000, 784), (70000,))"
      ]
     },
     "execution_count": 3,
     "metadata": {},
     "output_type": "execute_result"
    }
   ],
   "source": [
    "X.shape, y.shape"
   ]
  },
  {
   "cell_type": "code",
   "execution_count": 4,
   "metadata": {
    "scrolled": true
   },
   "outputs": [
    {
     "data": {
      "image/png": "[encoded data removed]",
      "text/plain": [
       "<matplotlib.figure.Figure at 0x23466086d68>"
      ]
     },
     "metadata": {},
     "output_type": "display_data"
    }
   ],
   "source": [
    "%matplotlib inline\n",
    "import matplotlib\n",
    "import matplotlib.pyplot as plt\n",
    "\n",
    "some_digit = X[36000]\n",
    "some_digit_image = some_digit.reshape(28, 28)\n",
    "\n",
    "plt.imshow(some_digit_image, cmap = matplotlib.cm.binary,\n",
    "           interpolation=\"nearest\")\n",
    "plt.axis(\"off\")\n",
    "plt.show()"
   ]
  },
  {
   "cell_type": "code",
   "execution_count": 5,
   "metadata": {
    "scrolled": true
   },
   "outputs": [
    {
     "data": {
      "text/plain": [
       "5.0"
      ]
     },
     "execution_count": 5,
     "metadata": {},
     "output_type": "execute_result"
    }
   ],
   "source": [
    "y[36000]"
   ]
  },
  {
   "cell_type": "markdown",
   "metadata": {},
   "source": [
    "# Training a DNN using Plain TensorFlow\n",
    "## Construction Phase"
   ]
  },
  {
   "cell_type": "code",
   "execution_count": 6,
   "metadata": {
    "collapsed": true
   },
   "outputs": [],
   "source": [
    "import tensorflow as tf\n",
    "\n",
    "# Specify the number of inputs and outputs, and set the number of hidden neurons in each layer:\n",
    "n_inputs = 28*28 # MNIST\n",
    "n_hidden1 = 300\n",
    "n_hidden2 = 100\n",
    "n_outputs = 10"
   ]
  },
  {
   "cell_type": "code",
   "execution_count": 7,
   "metadata": {},
   "outputs": [],
   "source": [
    "X = tf.placeholder(tf.float32, shape=(None, n_inputs), name=\"X\")\n",
    "y = tf.placeholder(tf.int64, shape=(None), name=\"y\")"
   ]
  },
  {
   "cell_type": "code",
   "execution_count": 8,
   "metadata": {
    "collapsed": true
   },
   "outputs": [],
   "source": [
    "# Create the two hidden layers and the output layer\n",
    "#def neuron_layer(X, n_neurons, name, activation=None):\n",
    "#   with tf.name_scope(name):\n",
    "#        n_inputs = int(X.get_shape()[1])\n",
    "#        stddev = 2 / np.sqrt(n_inputs)\n",
    "#        init = tf.truncated_normal((n_inputs, n_neurons), stddev=stddev)\n",
    "#        W = tf.Variable(init, name=\"kernel\")\n",
    "#        b = tf.Variable(tf.zeros([n_neurons]), name=\"bias\")\n",
    "#        Z = tf.matmul(X, W) + b\n",
    "#        if activation is not None:\n",
    "#            return activation(Z)\n",
    "#        else:\n",
    "#            return Z"
   ]
  },
  {
   "cell_type": "code",
   "execution_count": 9,
   "metadata": {},
   "outputs": [],
   "source": [
    "#with tf.name_scope(\"dnn\"):\n",
    "#    hidden1 = neuron_layer(X, n_hidden1, name=\"hidden1\",\n",
    "#                           activation=tf.nn.relu)\n",
    "#    hidden2 = neuron_layer(hidden1, n_hidden2, name=\"hidden2\",\n",
    "#                          activation=tf.nn.relu)\n",
    "#    logits = neuron_layer(hidden2, n_outputs, name=\"outputs\")"
   ]
  },
  {
   "cell_type": "code",
   "execution_count": 10,
   "metadata": {},
   "outputs": [],
   "source": [
    "with tf.name_scope(\"dnn\"):\n",
    "    hidden1 = tf.layers.dense(X, n_hidden1, name=\"hidden1\",\n",
    "                              activation=tf.nn.relu)\n",
    "    hidden2 = tf.layers.dense(hidden1, n_hidden2, name=\"hidden2\",\n",
    "                              activation=tf.nn.relu)\n",
    "    logits = tf.layers.dense(hidden2, n_outputs, name=\"outputs\")"
   ]
  },
  {
   "cell_type": "code",
   "execution_count": 11,
   "metadata": {
    "collapsed": true
   },
   "outputs": [],
   "source": [
    "with tf.name_scope(\"loss\"):\n",
    "    xentropy = tf.nn.sparse_softmax_cross_entropy_with_logits(labels=y,\n",
    "                                                              logits=logits)\n",
    "    loss = tf.reduce_mean(xentropy, name=\"loss\")"
   ]
  },
  {
   "cell_type": "code",
   "execution_count": 12,
   "metadata": {
    "collapsed": true
   },
   "outputs": [],
   "source": [
    "learning_rate = 0.01\n",
    "\n",
    "with tf.name_scope(\"train\"):\n",
    "    optimizer = tf.train.GradientDescentOptimizer(learning_rate)\n",
    "    training_op = optimizer.minimize(loss)"
   ]
  },
  {
   "cell_type": "code",
   "execution_count": 13,
   "metadata": {
    "collapsed": true
   },
   "outputs": [],
   "source": [
    "with tf.name_scope(\"eval\"):\n",
    "    correct = tf.nn.in_top_k(logits, y, 1) # returns a 1D tensor full of boolean values\n",
    "    accuracy = tf.reduce_mean(tf.cast(correct, tf.float32)) #casting booleans to floats and then compute average"
   ]
  },
  {
   "cell_type": "code",
   "execution_count": 14,
   "metadata": {
    "collapsed": true
   },
   "outputs": [],
   "source": [
    "init = tf.global_variables_initializer()\n",
    "saver = tf.train.Saver()"
   ]
  },
  {
   "cell_type": "markdown",
   "metadata": {},
   "source": [
    "## Execution Phase"
   ]
  },
  {
   "cell_type": "code",
   "execution_count": 15,
   "metadata": {},
   "outputs": [
    {
     "name": "stdout",
     "output_type": "stream",
     "text": [
      "Extracting ./tmp/data/train-images-idx3-ubyte.gz\n",
      "Extracting ./tmp/data/train-labels-idx1-ubyte.gz\n",
      "Extracting ./tmp/data/t10k-images-idx3-ubyte.gz\n",
      "Extracting ./tmp/data/t10k-labels-idx1-ubyte.gz\n"
     ]
    }
   ],
   "source": [
    "from tensorflow.examples.tutorials.mnist import input_data\n",
    "mnist = input_data.read_data_sets(\"./tmp/data/\")"
   ]
  },
  {
   "cell_type": "code",
   "execution_count": 16,
   "metadata": {
    "collapsed": true
   },
   "outputs": [],
   "source": [
    "n_epochs = 40\n",
    "batch_size = 50"
   ]
  },
  {
   "cell_type": "code",
   "execution_count": 17,
   "metadata": {},
   "outputs": [
    {
     "name": "stdout",
     "output_type": "stream",
     "text": [
      "0 Train accuracy: 0.96 Test accuracy: 0.903\n",
      "1 Train accuracy: 0.96 Test accuracy: 0.9224\n",
      "2 Train accuracy: 0.92 Test accuracy: 0.9306\n",
      "3 Train accuracy: 0.92 Test accuracy: 0.9385\n",
      "4 Train accuracy: 0.98 Test accuracy: 0.9431\n",
      "5 Train accuracy: 0.9 Test accuracy: 0.9464\n",
      "6 Train accuracy: 0.98 Test accuracy: 0.9487\n",
      "7 Train accuracy: 0.94 Test accuracy: 0.9517\n",
      "8 Train accuracy: 0.98 Test accuracy: 0.9556\n",
      "9 Train accuracy: 0.94 Test accuracy: 0.9558\n",
      "10 Train accuracy: 1.0 Test accuracy: 0.9602\n",
      "11 Train accuracy: 0.92 Test accuracy: 0.9617\n",
      "12 Train accuracy: 1.0 Test accuracy: 0.9626\n",
      "13 Train accuracy: 0.96 Test accuracy: 0.9628\n",
      "14 Train accuracy: 0.98 Test accuracy: 0.9649\n",
      "15 Train accuracy: 0.98 Test accuracy: 0.9659\n",
      "16 Train accuracy: 0.96 Test accuracy: 0.9665\n",
      "17 Train accuracy: 1.0 Test accuracy: 0.9677\n",
      "18 Train accuracy: 1.0 Test accuracy: 0.9677\n",
      "19 Train accuracy: 0.98 Test accuracy: 0.9691\n",
      "20 Train accuracy: 1.0 Test accuracy: 0.9687\n",
      "21 Train accuracy: 0.98 Test accuracy: 0.9699\n",
      "22 Train accuracy: 1.0 Test accuracy: 0.9717\n",
      "23 Train accuracy: 1.0 Test accuracy: 0.9714\n",
      "24 Train accuracy: 1.0 Test accuracy: 0.9721\n",
      "25 Train accuracy: 0.98 Test accuracy: 0.9727\n",
      "26 Train accuracy: 1.0 Test accuracy: 0.9729\n",
      "27 Train accuracy: 0.96 Test accuracy: 0.9735\n",
      "28 Train accuracy: 1.0 Test accuracy: 0.9739\n",
      "29 Train accuracy: 1.0 Test accuracy: 0.9739\n",
      "30 Train accuracy: 1.0 Test accuracy: 0.9752\n",
      "31 Train accuracy: 0.98 Test accuracy: 0.9748\n",
      "32 Train accuracy: 1.0 Test accuracy: 0.9754\n",
      "33 Train accuracy: 1.0 Test accuracy: 0.975\n",
      "34 Train accuracy: 1.0 Test accuracy: 0.9754\n",
      "35 Train accuracy: 0.98 Test accuracy: 0.9758\n",
      "36 Train accuracy: 0.98 Test accuracy: 0.9766\n",
      "37 Train accuracy: 1.0 Test accuracy: 0.9755\n",
      "38 Train accuracy: 1.0 Test accuracy: 0.9753\n",
      "39 Train accuracy: 1.0 Test accuracy: 0.9759\n"
     ]
    }
   ],
   "source": [
    "with tf.Session() as sess:\n",
    "    init.run()\n",
    "    for epoch in range(n_epochs):\n",
    "        for iteration in range(mnist.train.num_examples // batch_size):\n",
    "            X_batch, y_batch = mnist.train.next_batch(batch_size)\n",
    "            sess.run(training_op, feed_dict={X: X_batch, y: y_batch})\n",
    "        acc_train = accuracy.eval(feed_dict={X: X_batch, y: y_batch})\n",
    "        acc_test = accuracy.eval(feed_dict={X: mnist.test.images,\n",
    "                                            y: mnist.test.labels})\n",
    "        print(epoch, \"Train accuracy:\", acc_train, \"Test accuracy:\", acc_test)\n",
    "    \n",
    "    save_path = saver.save(sess, \"./my_model_final.ckpt\")"
   ]
  }
 ],
 "metadata": {
  "kernelspec": {
   "display_name": "Python 3",
   "language": "python",
   "name": "python3"
  },
  "language_info": {
   "codemirror_mode": {
    "name": "ipython",
    "version": 3
   },
   "file_extension": ".py",
   "mimetype": "text/x-python",
   "name": "python",
   "nbconvert_exporter": "python",
   "pygments_lexer": "ipython3",
   "version": "3.6.1"
  }
 },
 "nbformat": 4,
 "nbformat_minor": 2
}
